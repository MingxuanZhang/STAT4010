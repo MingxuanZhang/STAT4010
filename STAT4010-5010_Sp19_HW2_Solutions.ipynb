{
 "cells": [
  {
   "cell_type": "markdown",
   "metadata": {},
   "source": [
    "# Homework #2\n",
    "\n",
    "**Due in class on Friday February 1, 2019**. Complete all of the following problems. Ideally, the theoretical problems should be answered in a Markdown cell directly underneath the question. If you don't know LaTex/Markdown, you may submit separate handwritten solutions to the theoretical problems. Please do not turn in messy work. Computational problems should be completed in this notebook (using the R kernel is preferred). Computational questions may require code, plots, analysis, interpretation, etc. Working in small groups is allowed, but it is important that you make an effort to master the material and hand in your own work. \n"
   ]
  },
  {
   "cell_type": "markdown",
   "metadata": {},
   "source": [
    "## A. Theoretical Problems"
   ]
  },
  {
   "cell_type": "markdown",
   "metadata": {},
   "source": [
    "### Problem A.1\n"
   ]
  },
  {
   "cell_type": "markdown",
   "metadata": {},
   "source": [
    "**This problem might require some outside-of-class research if you haven't taken a linear algebra/matrix methods course.**\n",
    "\n",
    "Matrices and vectors will play an important role for us in linear regression. Let's review some matrix theory as it might relate to linear regression.\n",
    "\n",
    "Consider the system of linear equations \n",
    "\n",
    "\\begin{equation} \n",
    "Y_i = \\beta_0 + \\sum^p_{j=1}\\beta_j X_{i,j} + \\varepsilon_i,\n",
    "\\end{equation}\n",
    "for $i = 1,...,n$, where $n$ is the number of data points (measurements in the sample), and $j = 1,...,p$, where \n",
    "\n",
    "1. $p+1$ is the number of parameters in the model. \n",
    "2. $Y_i$ is the $i^{th}$ measurement of the *response variable*.\n",
    "3. $X_{i,j}$ is the $i^{th}$ measurement of the $j^{th}$ *predictor variable*.\n",
    "4. $\\varepsilon_i$ is the $i^{th}$ *error term* and is a random variable (often assumed to be $N(0, \\sigma^2)$). \n",
    "5. $\\beta_j$ are *unknown parameters* of the model, ($j = 0,...,p$). We hope to estimate these, which would help us characterize the relationship between the predictors and response.\n",
    "\n",
    "#### (a)  Write the equation above in matrix vector form. Call the matrix including the predictors $X$, the vector of $Y_i$s $\\mathbf{Y}$, the vector of parameters $\\mathbf{\\beta}$, and the vector of error terms $\\mathbf{\\varepsilon}$. \n"
   ]
  },
  {
   "cell_type": "markdown",
   "metadata": {
    "collapsed": true
   },
   "source": [
    "$$\\mathbf{Y} = X\\mathbf{\\beta} + \\mathbf{\\varepsilon},$$ \n",
    "\n",
    "where $\\mathbf{Y} = (Y_1,...,Y_n)^T$,  $\\,\\,\\,\\,X = \\begin{bmatrix}\n",
    "1 & X_{1,1} & X_{1,2} & ... & X_{1,p}\\\\\n",
    "1 & X_{2,1} & X_{2,2} & ... & X_{2,p} \\\\\n",
    "\\vdots & \\vdots & \\vdots & ... & \\vdots \\\\\n",
    "1 & X_{n,1} & X_{n,2} & ... & X_{n,p} \n",
    "\\end{bmatrix}, \\,\\, $, $\\mathbf{\\beta} = (\\beta_1,...,\\beta_n)^T$ and $\\mathbf{\\varepsilon} = (\\varepsilon_1,...,\\varepsilon_n)^T$"
   ]
  },
  {
   "cell_type": "markdown",
   "metadata": {},
   "source": [
    "#### (b) In class, we will find that the OLS estimator for $\\mathbf{\\beta}$ in MLR is $\\widehat{\\boldsymbol\\beta} = (X^TX)^{-1}X^T\\mathbf{Y}$. \n",
    "\n",
    "\n",
    "1. What condition must be true about the columns of $X$ for the \"Gram\" matrix $X^TX$ to be invertible? \n",
    "2. What does this condition mean in practical terms? \n",
    "3. Suppose that the number of measurements ($n$) is less than the number of model parameters ($p+1$). What does this say about the invertibility of $X^TX$? What does this mean on a practical level?\n",
    "4. What is true about about $\\widehat{\\boldsymbol\\beta}$ if $X^TX$ is not invertible?\n",
    "\n",
    "\n"
   ]
  },
  {
   "cell_type": "markdown",
   "metadata": {},
   "source": [
    "1. For $X^TX$ to be invertible, the columns of $X$ must be linearly independent. That means that no column of $X$--i.e., no measured predictor--can be written as a linear combination of other columns. This implies that $n > (p+1)$.\n",
    "2. If we've measured a predictor that is simply a linear combination of others, that means that that predictor is not adding any new information that's not already contained in the other predictors. Imagine a simple case: $X_1$ is a predictor of measured weights in pounds, and $X_2$ is a predictor of measured weights in kilograms. Thus, $X_1 = 2.2046 X_2$. Measuring $X_1$ doesn't give any new information.\n",
    "3. This implies that we have more parameters than data/measurements, and thus $X^TX$ will not be invertible.\n",
    "4. The formula for $\\widehat{\\boldsymbol\\beta} = (X^TX)^{-1}X^T\\mathbf{Y}$ is derived from the \"normal equations\": $$ (X^TX)\\mathbf{\\beta} = X^T\\mathbf{Y}.$$ The normal equations have a unique solutions if and only if $X^TX$ is invertible. If it's not invertible, then either the normal equations have no solutions or infinitely many solutions."
   ]
  },
  {
   "cell_type": "markdown",
   "metadata": {},
   "source": [
    "## B. Computational Problems"
   ]
  },
  {
   "cell_type": "markdown",
   "metadata": {},
   "source": [
    "### Problem B.1"
   ]
  },
  {
   "cell_type": "markdown",
   "metadata": {},
   "source": [
    "Let $X_1,...,X_{n_1}$ be an iid sample from population #1, with unknown mean $\\mu_1$ and known standard deviation $\\sigma_1$, and let $Y_1,...,Y_{n_2}$ be an iid sample from population #2, with unknown mean $\\mu_2$ and known standard deviation $\\sigma_2$. Suppose we want to conduct a hypothesis test of the sort: $$H_0: \\mu_1 - \\mu_2 = 0 \\,\\,\\, vs \\,\\,\\, H_1: \\mu_1 - \\mu_2 \\ge 0. $$\n",
    "\n",
    "The following algorithm has been suggested for a bootstrap test.\n",
    "\n",
    "1. Calculate the test statistic $$t = \\frac{\\bar{x} - \\bar{y}}{\\sqrt{\\sigma^2_1\\big/n_1 + \\sigma^2_2\\big/n_2}}$$\n",
    " \n",
    "2. Let $\\bar{z}$ be the mean of the combined data sets. Create two new data sets, $x^\\prime_1,...,x^\\prime_{n_1}$ and $y^\\prime_1,...,y^\\prime_{n_2}$ that are the original data sets centered at $\\bar{z}$.\n",
    "\n",
    "3. Draw $B$ random bootstrap samples of size $n_1$ from $x^\\prime_1,...,x^\\prime_{n_1}$ and of size $n_2$ from $y^\\prime_1,...,y^\\prime_{n_2}$. The result will be two matrices, $x^*$ and $y^*$; $x^*$ will containin columns of bootstrap samples from sample #1, and $y^*$ will contain columns of bootstrap samples from sample #2.\n",
    "\n",
    "4. Then, for each bootstrap sample pair, calculate \n",
    "\n",
    "$$t^* = \\frac{\\bar{x^*}_j - \\bar{y^*}_j}{\\sqrt{\\sigma^{*^2}_1\\big/n_1 + \\sigma^{*^2}_2\\big/n_2}},$$\n",
    "\n",
    "where $\\bar{x^*}_j$ is the sample mean of the $j^{th}$ bootstrap sample from sample #1, and $\\bar{y^*}_j$ is the sample mean of the $j^{th}$ bootstrap sample from sample #2. $\\sigma^{*^2}_1$ and $\\sigma^{*^2}_2$ are the corresponding variance estimates of the $j^{th}$ bootstrap sample. $t^*$ will be a vector of length $B$ and will approximate the distribution of the test statistic $t$.\n",
    "\n",
    "5. Estimate the p-value using $$\\frac{\\text{# of times }\\{t^* \\ge t \\}}{B}.$$ \n",
    "\n"
   ]
  },
  {
   "cell_type": "markdown",
   "metadata": {},
   "source": [
    "#### (a) Generate $X_1,...,X_{20} \\overset{iid}{\\sim} N(0,2)$ and $Y_1,...,Y_{15} \\overset{iid}{\\sim} N(1,3)$, and then forget that you know $\\mu_1 = 0$ and $\\mu_2 = 1$. Use the bootstrap method described above to test $$H_0: \\mu_1 - \\mu_2 = 0 \\,\\,\\, vs \\,\\,\\, H_1: \\mu_1 - \\mu_2 \\ge 0. $$"
   ]
  },
  {
   "cell_type": "code",
   "execution_count": 6,
   "metadata": {
    "collapsed": false
   },
   "outputs": [
    {
     "data": {
      "text/html": [
       "-0.00386808252904658"
      ],
      "text/latex": [
       "-0.00386808252904658"
      ],
      "text/markdown": [
       "-0.00386808252904658"
      ],
      "text/plain": [
       "[1] -0.003868083"
      ]
     },
     "metadata": {},
     "output_type": "display_data"
    },
    {
     "data": {
      "text/html": [
       "0.5"
      ],
      "text/latex": [
       "0.5"
      ],
      "text/markdown": [
       "0.5"
      ],
      "text/plain": [
       "[1] 0.5"
      ]
     },
     "metadata": {},
     "output_type": "display_data"
    }
   ],
   "source": [
    "set.seed(878)\n",
    "n1 = 20; mu1 = 0; sig1 = 2; x = rnorm(n1,mu1,sig1)\n",
    "n2 = 15; mu2 = 1; sig2 = 3; y = rnorm(n2,mu2,sig2)\n",
    "t = (mean(x) - mean(y))/(sqrt(sig1^2/n1 + sig2^2/n2)); t\n",
    "\n",
    "zbar = mean(c(x,y)); xprime = x - mean(x) + zbar; \n",
    "yprime = y - mean(y) + zbar\n",
    "\n",
    "B = 500; \n",
    "xstar = replicate(B, sample(xprime,n1,replace = TRUE))\n",
    "ystar = replicate(B, sample(yprime,n2,replace = TRUE))\n",
    "\n",
    "tstar = (colMeans(xstar) - colMeans(ystar))/(sqrt(sig1^2/n1 + sig2^2/n2)); \n",
    "\n",
    "\n",
    "pvalue = sum(tstar >= t)/B; pvalue"
   ]
  },
  {
   "cell_type": "markdown",
   "metadata": {},
   "source": [
    "The p-value is greater than $\\alpha = 0.05$ so we fail to reject the null hypothesis. "
   ]
  },
  {
   "cell_type": "markdown",
   "metadata": {},
   "source": [
    "#### (b) Use t.test() to test the hypotheses in part (a)."
   ]
  },
  {
   "cell_type": "code",
   "execution_count": 7,
   "metadata": {
    "collapsed": false
   },
   "outputs": [
    {
     "data": {
      "text/plain": [
       "\n",
       "\tWelch Two Sample t-test\n",
       "\n",
       "data:  x and y\n",
       "t = -0.0035138, df = 20.896, p-value = 0.5014\n",
       "alternative hypothesis: true difference in means is greater than 0\n",
       "95 percent confidence interval:\n",
       " -1.698092       Inf\n",
       "sample estimates:\n",
       "mean of x mean of y \n",
       "0.6238552 0.6273149 \n"
      ]
     },
     "metadata": {},
     "output_type": "display_data"
    }
   ],
   "source": [
    "t.test(x,y, alternative = \"greater\")"
   ]
  },
  {
   "cell_type": "markdown",
   "metadata": {},
   "source": [
    "#### (c) How much do the answers from (a) and (b) differ? Explain the relationship between these tests."
   ]
  },
  {
   "cell_type": "markdown",
   "metadata": {
    "collapsed": false
   },
   "source": [
    "They don't differ by much. The reason for this is that the \"normal theory\" holds for the data that we generated, so the bootstrap procedure should give us results close to the t-interval."
   ]
  },
  {
   "cell_type": "markdown",
   "metadata": {},
   "source": [
    "### Problem B.2\n",
    "\n",
    "A tennis club has two systems to measure the speed of a tennis ball. The local tennis pros suspect one system, ${\\tt speed1}$, is consistently recording faster speeds. To test her suspicions, she sets up both systems and records the speed of 12 serves (three serves from each side of the court). The values are stored in the data frame ${\\tt TENNIS}$, with variables ${\\tt speed1}$ and ${\\tt speed2}$. The recorded speeds are in kilometers per hour. You can access ${\\tt TENNIS}$ by installing the PASWR2 package (if you haven't dont so already: install.packages(\"PASWR2\")) and running:\n",
    "\n",
    "library(PASWR2)\n",
    "\n",
    "data(TENNIS)\n",
    "\n",
    "\n",
    "#### Does the evidence support the tennis pro's suspicion? Use the above bootstrap hypothesis testing procedure and $\\alpha = 0.1$. "
   ]
  },
  {
   "cell_type": "code",
   "execution_count": 39,
   "metadata": {
    "collapsed": false
   },
   "outputs": [
    {
     "data": {
      "text/plain": [
       "\n",
       "\tWelch Two Sample t-test\n",
       "\n",
       "data:  speed1 and speed2\n",
       "t = -0.26746, df = 15.83, p-value = 0.6037\n",
       "alternative hypothesis: true difference in means is greater than 0\n",
       "95 percent confidence interval:\n",
       " -10.01106       Inf\n",
       "sample estimates:\n",
       "mean of x mean of y \n",
       " 78.48583  79.81500 \n"
      ]
     },
     "metadata": {},
     "output_type": "display_data"
    },
    {
     "data": {
      "text/html": [
       "-0.26746470499351"
      ],
      "text/latex": [
       "-0.26746470499351"
      ],
      "text/markdown": [
       "-0.26746470499351"
      ],
      "text/plain": [
       "[1] -0.2674647"
      ]
     },
     "metadata": {},
     "output_type": "display_data"
    },
    {
     "data": {
      "text/html": [
       "0.588"
      ],
      "text/latex": [
       "0.588"
      ],
      "text/markdown": [
       "0.588"
      ],
      "text/plain": [
       "[1] 0.588"
      ]
     },
     "metadata": {},
     "output_type": "display_data"
    }
   ],
   "source": [
    "library(PASWR2)\n",
    "data(TENNIS)\n",
    "with(TENNIS, t.test(speed1, speed2, alternative = \"greater\"))\n",
    "x = TENNIS$speed1; n1 = length(x); sig1 = sd(x); \n",
    "y = TENNIS$speed2; n2 = length(y); sig2 = sd(y);\n",
    "\n",
    "t = (mean(x) - mean(y))/(sqrt(sig1^2/n1 + sig2^2/n2)); t\n",
    "\n",
    "zbar = mean(c(x,y)); xprime = x - mean(x) + zbar; \n",
    "yprime = y - mean(y) + zbar\n",
    "\n",
    "B = 500; \n",
    "xstar = replicate(B, sample(xprime,n1,replace = TRUE))\n",
    "ystar = replicate(B, sample(yprime,n2,replace = TRUE))\n",
    "\n",
    "tstar = (colMeans(xstar) - colMeans(ystar))/(sqrt(sig1^2/n1 + sig2^2/n2)); \n",
    "\n",
    "\n",
    "pvalue = sum(tstar >= t)/B; pvalue"
   ]
  },
  {
   "cell_type": "markdown",
   "metadata": {},
   "source": [
    "The p-value is high, and thus we don't have good evidence to support the tennis pro's suspicion."
   ]
  },
  {
   "cell_type": "markdown",
   "metadata": {},
   "source": [
    "### Problem B.3\n",
    "Let $X_1,...,X_{30} \\overset{iid}{\\sim}N(1,9)$. The formula for a 90% confidence interval for $\\mu$ is \n",
    "\n",
    "$$\\bar{X} \\pm 1.64\\frac{\\sigma}{\\sqrt{n}}.$$\n",
    "\n",
    "Let's conduct a simulation to confirm the coverage of this confidence interval.\n",
    "\n",
    "#### (a) Generate $m = 500$ random samples of size $n = 30$ from $N(1,9)$ and calculate the 90% confidence interval for each. Don't print anything."
   ]
  },
  {
   "cell_type": "code",
   "execution_count": 137,
   "metadata": {
    "collapsed": false
   },
   "outputs": [],
   "source": [
    "set.seed(0019)\n",
    "n = 30; mu = 1; sig = 3; m = 500; x = replicate(m, rnorm(n,mu,sig))\n",
    "xbar = colMeans(x); \n",
    "ci = cbind(xbar-1.64*3/sqrt(n), xbar+1.64*3/sqrt(n));"
   ]
  },
  {
   "cell_type": "markdown",
   "metadata": {},
   "source": [
    "#### (b) Estimate the coverage by finding the number of intervals that cover the true mean, and dividing my $m$."
   ]
  },
  {
   "cell_type": "code",
   "execution_count": 138,
   "metadata": {
    "collapsed": false
   },
   "outputs": [
    {
     "name": "stdout",
     "output_type": "stream",
     "text": [
      "The estimated coverage is 0.91 ."
     ]
    }
   ],
   "source": [
    "coverage = 1-sum(ci[,1] > mu | ci[,2] < mu)/m\n",
    "cat(\"The estimated coverage is\",coverage,\".\")"
   ]
  },
  {
   "cell_type": "markdown",
   "metadata": {},
   "source": [
    "### Problem B.4\n",
    "\n",
    "Suppose that $X_1,...,X_8 \\overset{iid}{\\sim} Exp(\\lambda)$. \n",
    "\n",
    "\n",
    "#### (a) Compute a $90\\%$ pivot confidence interval for the population variance: $Var(X) = 1/\\lambda^2 = \\theta$.\n"
   ]
  },
  {
   "cell_type": "code",
   "execution_count": 44,
   "metadata": {
    "collapsed": false
   },
   "outputs": [
    {
     "data": {
      "text/html": [
       "<dl class=dl-horizontal>\n",
       "\t<dt>95%</dt>\n",
       "\t\t<dd>-0.0419204902962534</dd>\n",
       "\t<dt>5%</dt>\n",
       "\t\t<dd>0.313034929388813</dd>\n",
       "</dl>\n"
      ],
      "text/latex": [
       "\\begin{description*}\n",
       "\\item[95\\textbackslash{}\\%] -0.0419204902962534\n",
       "\\item[5\\textbackslash{}\\%] 0.313034929388813\n",
       "\\end{description*}\n"
      ],
      "text/markdown": [
       "95%\n",
       ":   -0.04192049029625345%\n",
       ":   0.313034929388813\n",
       "\n"
      ],
      "text/plain": [
       "        95%          5% \n",
       "-0.04192049  0.31303493 "
      ]
     },
     "metadata": {},
     "output_type": "display_data"
    },
    {
     "data": {
      "image/png": "[encoded data removed]",
      "text/plain": [
       "Plot with title “Histogram of bs”"
      ]
     },
     "metadata": {},
     "output_type": "display_data"
    }
   ],
   "source": [
    "### NOT MODIFIED\n",
    "\n",
    "B = 500; n = 8; lambda = 3; \n",
    "x = rexp(n, lambda); v = 1/lambda^2;\n",
    "bs = apply(replicate(B,sample(x,n,replace =TRUE)),2, function(x) mean(x)^2)\n",
    "bounds = quantile(bs, c(0.05, 0.95))\n",
    "hist(bs)\n",
    "#bs =replicate(B,apply(replicate(B,sample(x,n,replace =TRUE)),2,var))\n",
    "count = matrix(NA, ncol = 1, nrow = B)\n",
    "l = 2*mean(x)^2 - bounds[2]\n",
    "u = 2*mean(x)^2 - bounds[1]\n",
    "c(l,u)"
   ]
  },
  {
   "cell_type": "code",
   "execution_count": 45,
   "metadata": {
    "collapsed": false
   },
   "outputs": [
    {
     "data": {
      "text/html": [
       "0.111111111111111"
      ],
      "text/latex": [
       "0.111111111111111"
      ],
      "text/markdown": [
       "0.111111111111111"
      ],
      "text/plain": [
       "[1] 0.1111111"
      ]
     },
     "metadata": {},
     "output_type": "display_data"
    }
   ],
   "source": [
    "v"
   ]
  },
  {
   "cell_type": "markdown",
   "metadata": {},
   "source": [
    "#### (b) Investigate the coverage of the bootstrap pivot confidence interval from part (a)."
   ]
  },
  {
   "cell_type": "code",
   "execution_count": 50,
   "metadata": {
    "collapsed": false,
    "scrolled": true
   },
   "outputs": [
    {
     "data": {
      "text/html": [
       "0.111111111111111"
      ],
      "text/latex": [
       "0.111111111111111"
      ],
      "text/markdown": [
       "0.111111111111111"
      ],
      "text/plain": [
       "[1] 0.1111111"
      ]
     },
     "metadata": {},
     "output_type": "display_data"
    }
   ],
   "source": [
    "v = 1/lambda^2; v\n",
    "for (i in 1:500){\n",
    "    x = rexp(n, lambda); \n",
    "    bs = as.numeric(quantile(apply(replicate(B,sample(x,n,replace = TRUE)),2,function(x) mean(x)^2), probs = c(0.025,0.975)))\n",
    "    l = 2*mean(x)^2 - bs[2]\n",
    "    u = 2*mean(x)^2 - bs[1]\n",
    "    #l = bs[1]\n",
    "    #u = bs[2]\n",
    "    count[i] = l > v | u < v\n",
    "    \n",
    "}\n"
   ]
  },
  {
   "cell_type": "code",
   "execution_count": 51,
   "metadata": {
    "collapsed": false
   },
   "outputs": [
    {
     "data": {
      "text/html": [
       "0.722"
      ],
      "text/latex": [
       "0.722"
      ],
      "text/markdown": [
       "0.722"
      ],
      "text/plain": [
       "[1] 0.722"
      ]
     },
     "metadata": {},
     "output_type": "display_data"
    }
   ],
   "source": [
    "1-sum(count[1:500])/B"
   ]
  },
  {
   "cell_type": "markdown",
   "metadata": {},
   "source": [
    "### Problem B.5\n",
    "\n",
    "#### (a) Load the \"gala\" dataset, and describe the variables. "
   ]
  },
  {
   "cell_type": "code",
   "execution_count": 4,
   "metadata": {
    "collapsed": false
   },
   "outputs": [],
   "source": [
    "library(faraway)\n",
    "library(ggplot2)\n",
    "data(gala)\n",
    "#install.packages(\"gridExtra\")\n",
    "library(gridExtra)\n",
    "\n",
    "#plot(gala)"
   ]
  },
  {
   "cell_type": "markdown",
   "metadata": {},
   "source": [
    "#### (b) Use ggplot() to explore the relationship between the Species variable (response) and Endemics, Elevation, Nearest, and Adjacent (predictor variables). You might do so by creating four separate scatter plots. Do these relationships look linear? Does the variability in Species change as a function of any of the predictors? Are there any outliers in any of the plots?"
   ]
  },
  {
   "cell_type": "code",
   "execution_count": 6,
   "metadata": {
    "collapsed": false
   },
   "outputs": [
    {
     "data": {
      "text/html": [
       "<table>\n",
       "<thead><tr><th></th><th scope=col>Species</th><th scope=col>Endemics</th><th scope=col>Area</th><th scope=col>Elevation</th><th scope=col>Nearest</th><th scope=col>Scruz</th><th scope=col>Adjacent</th></tr></thead>\n",
       "<tbody>\n",
       "\t<tr><th scope=row>Species</th><td> 1.00000000 </td><td> 0.970876516</td><td> 0.6178431  </td><td> 0.73848666 </td><td>-0.014094067</td><td>-0.17114244 </td><td> 0.02616635 </td></tr>\n",
       "\t<tr><th scope=row>Endemics</th><td> 0.97087652 </td><td> 1.000000000</td><td> 0.6169791  </td><td> 0.79290437 </td><td> 0.005994286</td><td>-0.15426432 </td><td> 0.08265803 </td></tr>\n",
       "\t<tr><th scope=row>Area</th><td> 0.61784307 </td><td> 0.616979087</td><td> 1.0000000  </td><td> 0.75373492 </td><td>-0.111103196</td><td>-0.10078493 </td><td> 0.18003759 </td></tr>\n",
       "\t<tr><th scope=row>Elevation</th><td> 0.73848666 </td><td> 0.792904369</td><td> 0.7537349  </td><td> 1.00000000 </td><td>-0.011076984</td><td>-0.01543829 </td><td> 0.53645782 </td></tr>\n",
       "\t<tr><th scope=row>Nearest</th><td>-0.01409407 </td><td> 0.005994286</td><td>-0.1111032  </td><td>-0.01107698 </td><td> 1.000000000</td><td> 0.61541036 </td><td>-0.11624788 </td></tr>\n",
       "\t<tr><th scope=row>Scruz</th><td>-0.17114244 </td><td>-0.154264319</td><td>-0.1007849  </td><td>-0.01543829 </td><td> 0.615410357</td><td> 1.00000000 </td><td> 0.05166066 </td></tr>\n",
       "\t<tr><th scope=row>Adjacent</th><td> 0.02616635 </td><td> 0.082658026</td><td> 0.1800376  </td><td> 0.53645782 </td><td>-0.116247885</td><td> 0.05166066 </td><td> 1.00000000 </td></tr>\n",
       "</tbody>\n",
       "</table>\n"
      ],
      "text/latex": [
       "\\begin{tabular}{r|lllllll}\n",
       "  & Species & Endemics & Area & Elevation & Nearest & Scruz & Adjacent\\\\\n",
       "\\hline\n",
       "\tSpecies &  1.00000000  &  0.970876516 &  0.6178431   &  0.73848666  & -0.014094067 & -0.17114244  &  0.02616635 \\\\\n",
       "\tEndemics &  0.97087652  &  1.000000000 &  0.6169791   &  0.79290437  &  0.005994286 & -0.15426432  &  0.08265803 \\\\\n",
       "\tArea &  0.61784307  &  0.616979087 &  1.0000000   &  0.75373492  & -0.111103196 & -0.10078493  &  0.18003759 \\\\\n",
       "\tElevation &  0.73848666  &  0.792904369 &  0.7537349   &  1.00000000  & -0.011076984 & -0.01543829  &  0.53645782 \\\\\n",
       "\tNearest & -0.01409407  &  0.005994286 & -0.1111032   & -0.01107698  &  1.000000000 &  0.61541036  & -0.11624788 \\\\\n",
       "\tScruz & -0.17114244  & -0.154264319 & -0.1007849   & -0.01543829  &  0.615410357 &  1.00000000  &  0.05166066 \\\\\n",
       "\tAdjacent &  0.02616635  &  0.082658026 &  0.1800376   &  0.53645782  & -0.116247885 &  0.05166066  &  1.00000000 \\\\\n",
       "\\end{tabular}\n"
      ],
      "text/markdown": [
       "\n",
       "| <!--/--> | Species | Endemics | Area | Elevation | Nearest | Scruz | Adjacent | \n",
       "|---|---|---|---|---|---|---|\n",
       "| Species |  1.00000000  |  0.970876516 |  0.6178431   |  0.73848666  | -0.014094067 | -0.17114244  |  0.02616635  | \n",
       "| Endemics |  0.97087652  |  1.000000000 |  0.6169791   |  0.79290437  |  0.005994286 | -0.15426432  |  0.08265803  | \n",
       "| Area |  0.61784307  |  0.616979087 |  1.0000000   |  0.75373492  | -0.111103196 | -0.10078493  |  0.18003759  | \n",
       "| Elevation |  0.73848666  |  0.792904369 |  0.7537349   |  1.00000000  | -0.011076984 | -0.01543829  |  0.53645782  | \n",
       "| Nearest | -0.01409407  |  0.005994286 | -0.1111032   | -0.01107698  |  1.000000000 |  0.61541036  | -0.11624788  | \n",
       "| Scruz | -0.17114244  | -0.154264319 | -0.1007849   | -0.01543829  |  0.615410357 |  1.00000000  |  0.05166066  | \n",
       "| Adjacent |  0.02616635  |  0.082658026 |  0.1800376   |  0.53645782  | -0.116247885 |  0.05166066  |  1.00000000  | \n",
       "\n",
       "\n"
      ],
      "text/plain": [
       "          Species     Endemics     Area       Elevation   Nearest     \n",
       "Species    1.00000000  0.970876516  0.6178431  0.73848666 -0.014094067\n",
       "Endemics   0.97087652  1.000000000  0.6169791  0.79290437  0.005994286\n",
       "Area       0.61784307  0.616979087  1.0000000  0.75373492 -0.111103196\n",
       "Elevation  0.73848666  0.792904369  0.7537349  1.00000000 -0.011076984\n",
       "Nearest   -0.01409407  0.005994286 -0.1111032 -0.01107698  1.000000000\n",
       "Scruz     -0.17114244 -0.154264319 -0.1007849 -0.01543829  0.615410357\n",
       "Adjacent   0.02616635  0.082658026  0.1800376  0.53645782 -0.116247885\n",
       "          Scruz       Adjacent   \n",
       "Species   -0.17114244  0.02616635\n",
       "Endemics  -0.15426432  0.08265803\n",
       "Area      -0.10078493  0.18003759\n",
       "Elevation -0.01543829  0.53645782\n",
       "Nearest    0.61541036 -0.11624788\n",
       "Scruz      1.00000000  0.05166066\n",
       "Adjacent   0.05166066  1.00000000"
      ]
     },
     "metadata": {},
     "output_type": "display_data"
    },
    {
     "data": {
      "image/png": "[encoded data removed]",
      "text/plain": [
       "plot without title"
      ]
     },
     "metadata": {},
     "output_type": "display_data"
    }
   ],
   "source": [
    "p = ggplot(data = gala) \n",
    "p1 = p + geom_point(mapping = aes(x = Endemics, y = Species)) \n",
    "p2 = p + geom_point(mapping = aes(x = Elevation, y = Species))\n",
    "p3 = p + geom_point(mapping = aes(x = Nearest, y = Species))\n",
    "p4 = p + geom_point(mapping = aes(x = Adjacent, y = Species))\n",
    "grid.arrange(p1,p2,p3,p4, nrow = 2)\n",
    "cor(gala)"
   ]
  },
  {
   "cell_type": "code",
   "execution_count": null,
   "metadata": {
    "collapsed": true
   },
   "outputs": [],
   "source": []
  },
  {
   "cell_type": "markdown",
   "metadata": {
    "collapsed": true
   },
   "source": [
    "1. The Species vs Endemics plot appears to be approximately linear, but perhaps with some curvature.\n",
    "2. The Species vs Elevation plot appears roughly linear, but there appears to be more variance in Species as Elevation gets higher.\n",
    "3. The Species vs Nearest plot doesn't appear to have a linear relationship.\n",
    "4. The Species vs Adjacent plot doesn't appear to have a linear relationship, and there seem to be a few very large outliers."
   ]
  },
  {
   "cell_type": "code",
   "execution_count": null,
   "metadata": {
    "collapsed": true
   },
   "outputs": [],
   "source": []
  }
 ],
 "metadata": {
  "kernelspec": {
   "display_name": "R",
   "language": "R",
   "name": "ir"
  },
  "language_info": {
   "codemirror_mode": "r",
   "file_extension": ".r",
   "mimetype": "text/x-r-source",
   "name": "R",
   "pygments_lexer": "r",
   "version": "3.3.2"
  }
 },
 "nbformat": 4,
 "nbformat_minor": 2
}
